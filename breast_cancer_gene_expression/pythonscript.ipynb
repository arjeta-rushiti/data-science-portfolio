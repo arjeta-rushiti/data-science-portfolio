{
 "cells": [
  {
   "cell_type": "markdown",
   "id": "d7c81710",
   "metadata": {},
   "source": [
    "# Breast Cancer Multi-Class Classification with Keras"
   ]
  },
  {
   "cell_type": "markdown",
   "id": "d2a7ff88",
   "metadata": {},
   "source": [
    "### 1. Importing libraries and modules"
   ]
  },
  {
   "cell_type": "markdown",
   "id": "b5203e53",
   "metadata": {},
   "source": [
    "The libraries and modules used throughout the project are:"
   ]
  },
  {
   "cell_type": "code",
   "execution_count": 1,
   "id": "118b0652",
   "metadata": {},
   "outputs": [],
   "source": [
    "# Import libraries and modules\n",
    "import matplotlib.pyplot as plt                                  # Data visualization\n",
    "import numpy as np                                               # Data manipulation using arrays\n",
    "import pandas as pd                                              # Data manipulation and analysis \n",
    "import tensorflow as tf                                          # Machine learning platform\n",
    "\n",
    "from tensorflow import keras                                     # Interface for Artificial Neural Network\n",
    "from tensorflow.keras import layers                              # Neural Network layers\n",
    "from tensorflow.keras.callbacks import EarlyStopping             # Regularization method for overfitting\n",
    "from sklearn.decomposition import PCA                            # Dimensionality reduction \n",
    "from sklearn.model_selection import StratifiedKFold              # Cross-validation \n",
    "from sklearn.preprocessing import StandardScaler, LabelEncoder   # Data preprocessing\n",
    "\n",
    "# Enable inline plotting\n",
    "%matplotlib inline                                               "
   ]
  },
  {
   "cell_type": "markdown",
   "id": "6bf27112",
   "metadata": {},
   "source": [
    "The global random seed has been set for TensorFlow to ensure reproducible outputs across multiple calls:"
   ]
  },
  {
   "cell_type": "code",
   "execution_count": null,
   "id": "e1030d16",
   "metadata": {},
   "outputs": [],
   "source": [
    "# Set tensorflow random seed for reproducible results\n",
    "tf.random.set_seed(42)"
   ]
  },
  {
   "cell_type": "markdown",
   "id": "4c3ae62a",
   "metadata": {},
   "source": [
    "### 2. Data loading and preprocessing\n",
    "\n",
    "#### 2.1. Loading"
   ]
  },
  {
   "cell_type": "markdown",
   "id": "50b664cf",
   "metadata": {},
   "source": [
    "The data set with ID 'GSE26304' as downloaded from the CuMiDa website in a Comma Separated Values (CSV) format is initially loaded and inspected in a pandas data frame:"
   ]
  },
  {
   "cell_type": "code",
   "execution_count": 8,
   "id": "7c1c9c50",
   "metadata": {},
   "outputs": [
    {
     "data": {
      "text/plain": [
       "(115, 33639)"
      ]
     },
     "execution_count": 8,
     "metadata": {},
     "output_type": "execute_result"
    }
   ],
   "source": [
    "df = pd.read_csv('./Breast_GSE26304.csv')           # Load a CSV file in pandas DataFrame \n",
    "df.shape                                            # Shape of the dataframe (115, 33639) "
   ]
  },
  {
   "cell_type": "code",
   "execution_count": 9,
   "id": "1cedc8ad",
   "metadata": {},
   "outputs": [
    {
     "data": {
      "text/plain": [
       "Index(['samples', 'type', 'NM_001003689', 'NM_005503', 'NM_004672',\n",
       "       'NM_001008727', 'Pro25G', 'NM_020630', 'BX094364', 'ENST00000333722',\n",
       "       ...\n",
       "       'NM_178354', 'BC030115', 'NM_019005', 'NM_001974', 'A_32_P206917',\n",
       "       'THC2406077', 'NR_001446', 'THC2336333', 'BC033812', 'THC2345075'],\n",
       "      dtype='object', length=33639)"
      ]
     },
     "execution_count": 9,
     "metadata": {},
     "output_type": "execute_result"
    }
   ],
   "source": [
    "df.columns                                          # Columns: sample idx, type of cancer, 33638 x genes"
   ]
  },
  {
   "cell_type": "code",
   "execution_count": 11,
   "id": "e13ea8e2",
   "metadata": {},
   "outputs": [
    {
     "data": {
      "text/plain": [
       "array(['breast_cancer_mixed', 'breast_cancer_dcis', 'breast_cancer_idc',\n",
       "       'normal'], dtype=object)"
      ]
     },
     "execution_count": 11,
     "metadata": {},
     "output_type": "execute_result"
    }
   ],
   "source": [
    "df['type'].unique()                                 # Explore breast cancer types"
   ]
  },
  {
   "cell_type": "markdown",
   "id": "fead24f7",
   "metadata": {},
   "source": [
    "The data set consists of 115 samples and 33 639 columns in total (start count at zero). The\n",
    "first two columns are the sample index and the type of cancer, whereas the remaining 33 638\n",
    "features correspond to gene expression data. <br>\n",
    "Column 'type' consists of four unique categories for classification with the following sample distribution:<br> \n",
    "1. breast cancer mixed (42),<br> \n",
    "2. breast cancer dcis (31),<br> \n",
    "3. breast cancer idc (36), and <br> \n",
    "4. normal (6)."
   ]
  },
  {
   "cell_type": "code",
   "execution_count": 46,
   "id": "d6c63758",
   "metadata": {},
   "outputs": [
    {
     "data": {
      "image/png": "[encoded data removed]",
      "text/plain": [
       "<Figure size 500x400 with 1 Axes>"
      ]
     },
     "metadata": {},
     "output_type": "display_data"
    }
   ],
   "source": [
    "types = df.groupby(['type']).size()                          # Group by cancer type  \n",
    "colors=['#621940', '#993366','#E5989B', '#FFCDB2']           # Define color palette\n",
    "ax = types.plot(kind='bar', color=colors, figsize=(5, 4))    # Plot count for cancer type\n",
    "\n",
    "ax.bar_label(ax.containers[0])                      # Display bar count\n",
    "ax.set_xlabel('Category', fontsize=10)              # Set label for the X-axis\n",
    "ax.set_ylabel('No. of Samples', fontsize=10)        # Set label for the Y-axis\n",
    "ax.set_title('Category Count', fontsize=11)         # Set figure title            \n",
    "plt.show()                                          # Show figure"
   ]
  },
  {
   "cell_type": "markdown",
   "id": "241c3f65",
   "metadata": {},
   "source": [
    "#### 2.2. Preprocessing "
   ]
  },
  {
   "cell_type": "markdown",
   "id": "8e6b0bb2",
   "metadata": {},
   "source": [
    "In the next step, the data is split into: <br>\n",
    " - **y** : features, by dropping the first two columns (i.e., ’sample’ and ’type’ ) and preserving the gene expression data, and <br>\n",
    " -  **X** : corresponding labels, by assigning column ’type’ which contains the breast cancer category for each sample. "
   ]
  },
  {
   "cell_type": "code",
   "execution_count": 13,
   "id": "252117c3",
   "metadata": {},
   "outputs": [],
   "source": [
    "# Get the features and corresponding labels (X, y) \n",
    "X = df.drop(['samples', 'type'], axis=1)\n",
    "y = df['type']"
   ]
  },
  {
   "cell_type": "markdown",
   "id": "cb8db0b7",
   "metadata": {},
   "source": [
    "**Standardization.** Since the data set contains a large number of features (over 33 000), it is often a good practice perform *Principal Component Analysis (PCA)* – reducing the set of features into a smaller number of variables called principal components while retaining as much information from the original data set as possible. However, PCA is a variance maximazing exercise which requires features to be scaled prior to processing. To check whether the original data set is standardized, the mean and standard deviation have been calculated per feature (column):"
   ]
  },
  {
   "cell_type": "code",
   "execution_count": 14,
   "id": "f5e2dbc0",
   "metadata": {},
   "outputs": [
    {
     "data": {
      "text/plain": [
       "NM_001003689    0.503836\n",
       "NM_005503       0.477631\n",
       "NM_004672       0.437132\n",
       "NM_001008727    0.332080\n",
       "Pro25G          0.600234\n",
       "                  ...   \n",
       "THC2406077      0.394533\n",
       "NR_001446       0.335505\n",
       "THC2336333      0.443152\n",
       "BC033812        0.448339\n",
       "THC2345075      0.454387\n",
       "Length: 33637, dtype: float64"
      ]
     },
     "execution_count": 14,
     "metadata": {},
     "output_type": "execute_result"
    }
   ],
   "source": [
    "# Check if the data is already normalized/standardized\n",
    "X.mean(axis=0)                              # Mean of each column"
   ]
  },
  {
   "cell_type": "code",
   "execution_count": 15,
   "id": "09557d79",
   "metadata": {},
   "outputs": [
    {
     "data": {
      "text/plain": [
       "NM_001003689    0.503836\n",
       "NM_005503       0.477631\n",
       "NM_004672       0.437132\n",
       "NM_001008727    0.332080\n",
       "Pro25G          0.600234\n",
       "                  ...   \n",
       "THC2406077      0.394533\n",
       "NR_001446       0.335505\n",
       "THC2336333      0.443152\n",
       "BC033812        0.448339\n",
       "THC2345075      0.454387\n",
       "Length: 33637, dtype: float64"
      ]
     },
     "execution_count": 15,
     "metadata": {},
     "output_type": "execute_result"
    }
   ],
   "source": [
    "X.std(axis=0)                               # Standard deviation of each column"
   ]
  },
  {
   "cell_type": "markdown",
   "id": "acbb5aae",
   "metadata": {},
   "source": [
    "It is clear from the results that the original data is not standard normally distributed Gaussian with zero mean and unit variance.\n",
    "Therefore, scaling was performed using the StandardScaler() class from scikit-learn:"
   ]
  },
  {
   "cell_type": "code",
   "execution_count": 21,
   "id": "75e16381",
   "metadata": {},
   "outputs": [
    {
     "name": "stdout",
     "output_type": "stream",
     "text": [
      "Mean: -0.00 \n",
      "Standard deviation: 1.00\n"
     ]
    }
   ],
   "source": [
    "# Perform standardization\n",
    "scaler  = StandardScaler()                  # Specify the standardization algorithm\n",
    "X_scaled = scaler.fit_transform(X)          # Fit and transform the data \n",
    "\n",
    "# Check if the data is standardized after the transformation\n",
    "print('Mean: {0:.2f} \\nStandard deviation: {1:.2f}'.format(np.mean(X_scaled), np.std(X_scaled)))"
   ]
  },
  {
   "cell_type": "markdown",
   "id": "fbd173b2",
   "metadata": {},
   "source": [
    "**Reducing dimensionality - PCA.** After standardizing the data, PCA is applied to the scaled features (X_scaled). The initializer of the PCA class has a parameter named n_components which is assigned to None, indicating equal number of principal components with the number of features in the dataset. Once the components are determined using the fit() method, the cumulative sum of the explained variance ratio for each principal component (PC) is calculated and the results are analysed using a graphical representation of the % of variation that each principal component (PC) accounts for - a scree plot:"
   ]
  },
  {
   "cell_type": "code",
   "execution_count": 40,
   "id": "8db0d11f",
   "metadata": {},
   "outputs": [
    {
     "data": {
      "image/png": "[encoded data removed]",
      "text/plain": [
       "<Figure size 400x400 with 1 Axes>"
      ]
     },
     "metadata": {},
     "output_type": "display_data"
    }
   ],
   "source": [
    "# Perform PCA fit on the scaled features\n",
    "# No. components == no. original features in the dataset\n",
    "pca = PCA(n_components = None) \n",
    "pca.fit(X_scaled)\n",
    "\n",
    "# Calculate cumulative sum of the explained variance ratio for each PC\n",
    "cumsum_variances = pca.explained_variance_ratio_.cumsum() * 100\n",
    "#print('Cumulative Variances (%):', cumsum_variances)\n",
    "\n",
    "# Total number of principal components\n",
    "components = len(cumsum_variances)                                  \n",
    "\n",
    "# Plot a scree plot \n",
    "plt.plot(range(1,components+1), cumsum_variances)  # Plot data\n",
    "plt.xlabel('Number of components')                 # Set label for X axis\n",
    "plt.ylabel('Explained variance (%)')               # Set label for Y axis\n",
    "plt.rcParams[\"figure.figsize\"] = (4, 3)            # Set figure size\n",
    "plt.show()                                         # Show figure"
   ]
  },
  {
   "cell_type": "markdown",
   "id": "dd335931",
   "metadata": {},
   "source": [
    "Although in theory, there is one PC per gene (or feature), in practice, the number of PCs is either the number of features or the number of samples, whichever is smaller. In the present data set the number of samples (115) is significantly smaller than the number of features (33 638), thus, the total number of principal components is 115. To capture the whole variability in the data, in the steps that follow all 115 PCs are used for the decomposition of the 33 638 features (gene expressions). <br>\n",
    "After PCA transformation the data consists of 115 samples each with 115 components (features):"
   ]
  },
  {
   "cell_type": "code",
   "execution_count": 47,
   "id": "dde1c3d5",
   "metadata": {},
   "outputs": [
    {
     "name": "stdout",
     "output_type": "stream",
     "text": [
      "(115, 115)\n"
     ]
    }
   ],
   "source": [
    "# Perform PCA transform on the scaled features\n",
    "X_pca = pca.transform(X_scaled)\n",
    "print(X_pca.shape)    "
   ]
  },
  {
   "cell_type": "markdown",
   "id": "bfb5ceef",
   "metadata": {},
   "source": [
    "**Encoding category labels.** The last part of data preprocessing compromises label encoding to integer\n",
    "values for the different cancer types. For this purpose, a LabelEncoder() is used which replaces\n",
    "the categorical data with a numeric value between 0 and 3 (for a total of 4 cancer types):"
   ]
  },
  {
   "cell_type": "code",
   "execution_count": 49,
   "id": "f5744bd2",
   "metadata": {},
   "outputs": [
    {
     "name": "stdout",
     "output_type": "stream",
     "text": [
      "{'breast_cancer_dcis': 0, 'breast_cancer_idc': 1, 'breast_cancer_mixed': 2, 'normal': 3}\n"
     ]
    }
   ],
   "source": [
    "# Encode categorical data to integer labels\n",
    "le = LabelEncoder()\n",
    "y_enc = le.fit_transform(y)  \n",
    "\n",
    "# Check mapping of categorical data and print results\n",
    "le_map = dict(zip(le.classes_, le.transform(le.classes_)))\n",
    "print(le_map)"
   ]
  },
  {
   "cell_type": "markdown",
   "id": "2ceecf17",
   "metadata": {},
   "source": [
    "### 3. Building a neural network (NN) model"
   ]
  },
  {
   "cell_type": "markdown",
   "id": "61707aa2",
   "metadata": {},
   "source": [
    "Next, a function build model() is defined which specifies the NN model to be used for the classification of the different cancer types based on the gene expression data: <br>\n",
    "\n",
    " - The NN model is build with Keras Sequential API and its architecture compromises a single hidden layer with 12 nodes and 115 units (for each feature - principal component). <p></p>  \n",
    "\n",
    " - The forward pass applies the rectified linear (ReLU) activation function with the current standard approach for initialization of the weights, namely, ’he normal’ initialization.<p></p>\n",
    " \n",
    " - The hidden layer is proceeded by a Dropout layer to prevent complex co-adaptations on training data by setting input units to 0 with a frequency of rate at each step during training time. The fraction of the input units to drop is set to 20 %.<p></p> \n",
    " \n",
    " - Finally, an output layer with 4 nodes is added to the network with the softmax activation function which is the most commonly used function for multi-class classification problems. Softmax will output one value for each node in the output layer, which can be interpreted as probabilities and sum to 1.0. Such an output dictates the need for one-hot-encoding of the label encoded cancer types, resulting in a probabilistic representation of the category labels, much like the softmax output. However, this action will be undertaken latter on in the code.<p></p>\n",
    " \n",
    " - In compliance with softmax, the categorical cross-entropy is used as a loss function to determine the error between the expected and predicted multinomial probability distribution.<p></p> \n",
    " \n",
    " - The NN model is compiled with the state-of-art Adam optimizer, which usually ensures a good convergence and reduces the need for a cumbersome determination of the optimal learning rate. During compilation, the accuracy of the model is used as a tracking metric. <br>\n",
    " \n",
    "The build_model() function returns a compiled model, the hyperparameters of which are fit for this project. Lastly, this function is called by assigning it to the object model:"
   ]
  },
  {
   "cell_type": "code",
   "execution_count": 50,
   "id": "b36fe6ae",
   "metadata": {},
   "outputs": [
    {
     "name": "stdout",
     "output_type": "stream",
     "text": [
      "Model: \"sequential\"\n",
      "_________________________________________________________________\n",
      " Layer (type)                Output Shape              Param #   \n",
      "=================================================================\n",
      " dense (Dense)               (None, 12)                1392      \n",
      "                                                                 \n",
      " dropout (Dropout)           (None, 12)                0         \n",
      "                                                                 \n",
      " dense_1 (Dense)             (None, 4)                 52        \n",
      "                                                                 \n",
      "=================================================================\n",
      "Total params: 1,444\n",
      "Trainable params: 1,444\n",
      "Non-trainable params: 0\n",
      "_________________________________________________________________\n",
      "None\n"
     ]
    }
   ],
   "source": [
    "def build_model():\n",
    "    # Create model with Keras sequential API\n",
    "    # Add hidden layer with 12 nodes and 115 units as input \n",
    "    # Add a dropout layer (rate = 20 %) to help reduce overfitting\n",
    "    # Add output layer with 4 units\n",
    "    model = keras.Sequential([\n",
    "        layers.Dense(12, input_dim=115, activation='relu', kernel_initializer='he_normal'),\n",
    "        layers.Dropout(0.2),\n",
    "        layers.Dense(4, activation='softmax')\n",
    "        ])\n",
    "    \n",
    "    # Print model summary\n",
    "    print(model.summary())\n",
    "    \n",
    "    # Compile model\n",
    "    model.compile(loss='categorical_crossentropy', optimizer='adam', metrics=['accuracy'])\n",
    "    \n",
    "    return model\n",
    "\n",
    "model = build_model()"
   ]
  },
  {
   "cell_type": "markdown",
   "id": "50c1481c",
   "metadata": {},
   "source": [
    "### 4. Evaluating the NN model"
   ]
  },
  {
   "cell_type": "markdown",
   "id": "903e1f62",
   "metadata": {},
   "source": [
    "To be consistent with the results presented in the CuMiDa website for the evaluation of the performance of other ML algorithms, the validation of the NN model is done using a three-fold stratified cross-validation. In addition, the StratifiedKFold method has the advantage of preserving the percentage of samples for each category during the data split, which is especially useful when dealing with an imbalanced data set:<br>\n",
    "\n",
    "- Initially, the EarlyStopping callback is defined with the metric to be tracked set to ’accuracy’. This callback will monitor the model’s accuracy during training and stop the training process if the accuracy does not improve for 10 consecutive epochs, in order to prevent overfitting. <p></p>\n",
    "\n",
    "- The StratifiedKFold method is defined with three folds. A dictionary called histories is initialized with empty lists to store the results of the cross-validation.  <p></p>\n",
    "\n",
    "- Then, a for-loop iterates over the folds generated by the StratifiedKFold method. For each fold, the data is split into training and validation sets using the indices generated by the StratifiedKFold method. The labels are converted to one-hot-encoded vectors using the Keras utility function to categorical() to comply with the sofmax output values. <p></p>\n",
    "\n",
    "- The model is then fit to the training data for 200 epochs using the fit() method, with the EarlyStopping callback passed as an argument. The history of the training process is saved in the ’history’ variable. <p></p>\n",
    "\n",
    "- Next, the model is evaluated on the validation data using the evaluate() method, and the accuracy and loss scores are saved in the ’histories’ dictionary.<p></p>\n",
    "\n",
    "- Finally, the mean and standard deviation of the validation accuracy scores are calculated using numpy, and printed to the console. The mean accuracy of the NN model is around 0.65, which is a significant improvement relative to performance of the other ML algorithms listed in the CuMiDa website (max. 0.39 using Decision Trees). <br>\n",
    "\n",
    "The overall evaluation procedure is presented in the following code:"
   ]
  },
  {
   "cell_type": "code",
   "execution_count": 51,
   "id": "15a40c9b",
   "metadata": {},
   "outputs": [
    {
     "name": "stdout",
     "output_type": "stream",
     "text": [
      "- - - - - - - - - - - - - - - - - - - - \n",
      "Epoch 1/200\n",
      "3/3 [==============================] - 1s 8ms/step - loss: 23.3934 - accuracy: 0.2105\n",
      "Epoch 2/200\n",
      "3/3 [==============================] - 0s 4ms/step - loss: 21.0444 - accuracy: 0.2632\n",
      "Epoch 3/200\n",
      "3/3 [==============================] - 0s 5ms/step - loss: 22.3503 - accuracy: 0.2237\n",
      "Epoch 4/200\n",
      "3/3 [==============================] - 0s 5ms/step - loss: 19.1530 - accuracy: 0.2105\n",
      "Epoch 5/200\n",
      "3/3 [==============================] - 0s 4ms/step - loss: 17.1775 - accuracy: 0.3421\n",
      "Epoch 6/200\n",
      "3/3 [==============================] - 0s 4ms/step - loss: 18.7437 - accuracy: 0.2895\n",
      "Epoch 7/200\n",
      "3/3 [==============================] - 0s 5ms/step - loss: 16.4901 - accuracy: 0.2895\n",
      "Epoch 8/200\n",
      "3/3 [==============================] - 0s 5ms/step - loss: 16.8769 - accuracy: 0.3289\n",
      "Epoch 9/200\n",
      "3/3 [==============================] - 0s 4ms/step - loss: 14.9869 - accuracy: 0.3553\n",
      "Epoch 10/200\n",
      "3/3 [==============================] - 0s 4ms/step - loss: 16.4110 - accuracy: 0.2763\n",
      "Epoch 11/200\n",
      "3/3 [==============================] - 0s 6ms/step - loss: 14.0894 - accuracy: 0.3421\n",
      "Epoch 12/200\n",
      "3/3 [==============================] - 0s 4ms/step - loss: 13.8928 - accuracy: 0.3421\n",
      "Epoch 13/200\n",
      "3/3 [==============================] - 0s 4ms/step - loss: 13.2628 - accuracy: 0.3553\n",
      "Epoch 14/200\n",
      "3/3 [==============================] - 0s 5ms/step - loss: 12.6539 - accuracy: 0.3947\n",
      "Epoch 15/200\n",
      "3/3 [==============================] - 0s 5ms/step - loss: 11.7575 - accuracy: 0.3684\n",
      "Epoch 16/200\n",
      "3/3 [==============================] - 0s 4ms/step - loss: 11.6793 - accuracy: 0.4474\n",
      "Epoch 17/200\n",
      "3/3 [==============================] - 0s 4ms/step - loss: 10.8924 - accuracy: 0.3947\n",
      "Epoch 18/200\n",
      "3/3 [==============================] - 0s 5ms/step - loss: 11.4212 - accuracy: 0.3158\n",
      "Epoch 19/200\n",
      "3/3 [==============================] - 0s 5ms/step - loss: 9.6201 - accuracy: 0.4868\n",
      "Epoch 20/200\n",
      "3/3 [==============================] - 0s 4ms/step - loss: 9.1551 - accuracy: 0.4474\n",
      "Epoch 21/200\n",
      "3/3 [==============================] - 0s 4ms/step - loss: 9.6564 - accuracy: 0.4474\n",
      "Epoch 22/200\n",
      "3/3 [==============================] - 0s 4ms/step - loss: 8.9316 - accuracy: 0.3816\n",
      "Epoch 23/200\n",
      "3/3 [==============================] - 0s 4ms/step - loss: 8.1091 - accuracy: 0.4211\n",
      "Epoch 24/200\n",
      "3/3 [==============================] - 0s 4ms/step - loss: 8.1952 - accuracy: 0.4605\n",
      "Epoch 25/200\n",
      "3/3 [==============================] - 0s 4ms/step - loss: 7.6904 - accuracy: 0.5000\n",
      "Epoch 26/200\n",
      "3/3 [==============================] - 0s 4ms/step - loss: 5.6951 - accuracy: 0.5000\n",
      "Epoch 27/200\n",
      "3/3 [==============================] - 0s 4ms/step - loss: 5.3091 - accuracy: 0.5263\n",
      "Epoch 28/200\n",
      "3/3 [==============================] - 0s 5ms/step - loss: 6.6094 - accuracy: 0.5526\n",
      "Epoch 29/200\n",
      "3/3 [==============================] - 0s 4ms/step - loss: 5.8127 - accuracy: 0.5395\n",
      "Epoch 30/200\n",
      "3/3 [==============================] - 0s 4ms/step - loss: 5.3772 - accuracy: 0.5132\n",
      "Epoch 31/200\n",
      "3/3 [==============================] - 0s 4ms/step - loss: 5.0400 - accuracy: 0.5526\n",
      "Epoch 32/200\n",
      "3/3 [==============================] - 0s 4ms/step - loss: 5.5347 - accuracy: 0.5526\n",
      "Epoch 33/200\n",
      "3/3 [==============================] - 0s 4ms/step - loss: 4.7001 - accuracy: 0.5921\n",
      "Epoch 34/200\n",
      "3/3 [==============================] - 0s 4ms/step - loss: 5.1388 - accuracy: 0.5132\n",
      "Epoch 35/200\n",
      "3/3 [==============================] - 0s 4ms/step - loss: 3.3142 - accuracy: 0.6053\n",
      "Epoch 36/200\n",
      "3/3 [==============================] - 0s 4ms/step - loss: 3.8363 - accuracy: 0.5789\n",
      "Epoch 37/200\n",
      "3/3 [==============================] - 0s 4ms/step - loss: 3.5889 - accuracy: 0.6053\n",
      "Epoch 38/200\n",
      "3/3 [==============================] - 0s 5ms/step - loss: 2.7873 - accuracy: 0.6842\n",
      "Epoch 39/200\n",
      "3/3 [==============================] - 0s 4ms/step - loss: 3.2036 - accuracy: 0.6316\n",
      "Epoch 40/200\n",
      "3/3 [==============================] - 0s 4ms/step - loss: 3.7227 - accuracy: 0.6053\n",
      "Epoch 41/200\n",
      "3/3 [==============================] - 0s 5ms/step - loss: 3.6054 - accuracy: 0.6053\n",
      "Epoch 42/200\n",
      "3/3 [==============================] - 0s 4ms/step - loss: 3.3172 - accuracy: 0.6316\n",
      "Epoch 43/200\n",
      "3/3 [==============================] - 0s 4ms/step - loss: 3.1457 - accuracy: 0.6711\n",
      "Epoch 44/200\n",
      "3/3 [==============================] - 0s 4ms/step - loss: 2.9166 - accuracy: 0.5526\n",
      "Epoch 45/200\n",
      "3/3 [==============================] - 0s 5ms/step - loss: 3.1075 - accuracy: 0.5921\n",
      "Epoch 46/200\n",
      "3/3 [==============================] - 0s 4ms/step - loss: 2.6835 - accuracy: 0.6711\n",
      "Epoch 47/200\n",
      "3/3 [==============================] - 0s 4ms/step - loss: 1.7004 - accuracy: 0.7237\n",
      "Epoch 48/200\n",
      "3/3 [==============================] - 0s 4ms/step - loss: 2.1214 - accuracy: 0.7105\n",
      "Epoch 49/200\n",
      "3/3 [==============================] - 0s 4ms/step - loss: 3.8154 - accuracy: 0.5658\n",
      "Epoch 50/200\n",
      "3/3 [==============================] - 0s 4ms/step - loss: 2.1427 - accuracy: 0.7105\n",
      "Epoch 51/200\n",
      "3/3 [==============================] - 0s 4ms/step - loss: 1.4431 - accuracy: 0.7763\n",
      "Epoch 52/200\n",
      "3/3 [==============================] - 0s 4ms/step - loss: 1.8725 - accuracy: 0.7237\n",
      "Epoch 53/200\n",
      "3/3 [==============================] - 0s 4ms/step - loss: 2.1518 - accuracy: 0.7237\n",
      "Epoch 54/200\n",
      "3/3 [==============================] - 0s 4ms/step - loss: 2.0630 - accuracy: 0.6579\n",
      "Epoch 55/200\n",
      "3/3 [==============================] - 0s 5ms/step - loss: 1.6986 - accuracy: 0.6711\n",
      "Epoch 56/200\n",
      "3/3 [==============================] - 0s 4ms/step - loss: 1.3074 - accuracy: 0.7763\n",
      "Epoch 57/200\n",
      "3/3 [==============================] - 0s 4ms/step - loss: 1.7479 - accuracy: 0.7105\n",
      "Epoch 58/200\n",
      "3/3 [==============================] - 0s 4ms/step - loss: 2.0538 - accuracy: 0.7105\n",
      "Epoch 59/200\n",
      "3/3 [==============================] - 0s 6ms/step - loss: 0.7881 - accuracy: 0.7895\n",
      "Epoch 60/200\n",
      "3/3 [==============================] - 0s 4ms/step - loss: 0.8692 - accuracy: 0.7763\n",
      "Epoch 61/200\n",
      "3/3 [==============================] - 0s 4ms/step - loss: 1.8047 - accuracy: 0.7105\n",
      "Epoch 62/200\n",
      "3/3 [==============================] - 0s 4ms/step - loss: 1.3391 - accuracy: 0.7368\n",
      "Epoch 63/200\n",
      "3/3 [==============================] - 0s 4ms/step - loss: 2.1923 - accuracy: 0.7105\n",
      "Epoch 64/200\n",
      "3/3 [==============================] - 0s 4ms/step - loss: 1.2993 - accuracy: 0.7105\n",
      "Epoch 65/200\n",
      "3/3 [==============================] - 0s 4ms/step - loss: 0.8204 - accuracy: 0.8026\n",
      "Epoch 66/200\n",
      "3/3 [==============================] - 0s 5ms/step - loss: 1.3630 - accuracy: 0.8158\n",
      "Epoch 67/200\n",
      "3/3 [==============================] - 0s 4ms/step - loss: 0.9682 - accuracy: 0.7763\n",
      "Epoch 68/200\n",
      "3/3 [==============================] - 0s 4ms/step - loss: 2.0096 - accuracy: 0.6974\n",
      "Epoch 69/200\n",
      "3/3 [==============================] - 0s 4ms/step - loss: 0.8038 - accuracy: 0.8289\n",
      "Epoch 70/200\n",
      "3/3 [==============================] - 0s 4ms/step - loss: 1.2774 - accuracy: 0.7763\n",
      "Epoch 71/200\n",
      "3/3 [==============================] - 0s 6ms/step - loss: 0.6468 - accuracy: 0.8158\n",
      "Epoch 72/200\n",
      "3/3 [==============================] - 0s 46ms/step - loss: 1.1649 - accuracy: 0.7763\n",
      "Epoch 73/200\n",
      "3/3 [==============================] - 0s 14ms/step - loss: 0.7771 - accuracy: 0.8684\n",
      "Epoch 74/200\n",
      "3/3 [==============================] - 0s 42ms/step - loss: 0.8594 - accuracy: 0.7895\n",
      "Epoch 75/200\n",
      "3/3 [==============================] - 0s 37ms/step - loss: 0.6958 - accuracy: 0.8421\n",
      "Epoch 76/200\n",
      "3/3 [==============================] - 0s 19ms/step - loss: 1.3777 - accuracy: 0.8026\n",
      "Epoch 77/200\n",
      "3/3 [==============================] - 0s 39ms/step - loss: 0.7976 - accuracy: 0.8289\n",
      "Epoch 78/200\n",
      "3/3 [==============================] - 0s 6ms/step - loss: 0.7364 - accuracy: 0.8289\n",
      "Epoch 79/200\n",
      "3/3 [==============================] - 0s 42ms/step - loss: 0.8325 - accuracy: 0.7632\n",
      "Epoch 80/200\n",
      "3/3 [==============================] - 0s 12ms/step - loss: 0.9726 - accuracy: 0.8421\n",
      "Epoch 81/200\n",
      "3/3 [==============================] - 0s 38ms/step - loss: 0.8352 - accuracy: 0.7500\n",
      "Epoch 82/200\n",
      "3/3 [==============================] - 0s 33ms/step - loss: 0.5841 - accuracy: 0.8553\n",
      "Epoch 83/200\n",
      "3/3 [==============================] - 0s 18ms/step - loss: 0.7951 - accuracy: 0.8158\n"
     ]
    },
    {
     "name": "stdout",
     "output_type": "stream",
     "text": [
      "- - - - - - - - - - - - - - - - - - - - \n",
      "Epoch 1/200\n",
      "3/3 [==============================] - 0s 4ms/step - loss: 10.3021 - accuracy: 0.5195\n",
      "Epoch 2/200\n",
      "3/3 [==============================] - 0s 4ms/step - loss: 11.0718 - accuracy: 0.5065\n",
      "Epoch 3/200\n",
      "3/3 [==============================] - 0s 4ms/step - loss: 10.9314 - accuracy: 0.5974\n",
      "Epoch 4/200\n",
      "3/3 [==============================] - 0s 4ms/step - loss: 10.7956 - accuracy: 0.4805\n",
      "Epoch 5/200\n",
      "3/3 [==============================] - 0s 4ms/step - loss: 9.2305 - accuracy: 0.5195\n",
      "Epoch 6/200\n",
      "3/3 [==============================] - 0s 4ms/step - loss: 8.7316 - accuracy: 0.5714\n",
      "Epoch 7/200\n",
      "3/3 [==============================] - 0s 4ms/step - loss: 8.7907 - accuracy: 0.5325\n",
      "Epoch 8/200\n",
      "3/3 [==============================] - 0s 4ms/step - loss: 6.3234 - accuracy: 0.5974\n",
      "Epoch 9/200\n",
      "3/3 [==============================] - 0s 4ms/step - loss: 7.2542 - accuracy: 0.6104\n",
      "Epoch 10/200\n",
      "3/3 [==============================] - 0s 4ms/step - loss: 6.3971 - accuracy: 0.5974\n",
      "Epoch 11/200\n",
      "3/3 [==============================] - 0s 4ms/step - loss: 6.7659 - accuracy: 0.5974\n",
      "Epoch 12/200\n",
      "3/3 [==============================] - 0s 4ms/step - loss: 5.9987 - accuracy: 0.6234\n",
      "Epoch 13/200\n",
      "3/3 [==============================] - 0s 5ms/step - loss: 5.5459 - accuracy: 0.6234\n",
      "Epoch 14/200\n",
      "3/3 [==============================] - 0s 4ms/step - loss: 4.2274 - accuracy: 0.6753\n",
      "Epoch 15/200\n",
      "3/3 [==============================] - 0s 4ms/step - loss: 3.2388 - accuracy: 0.5844\n",
      "Epoch 16/200\n",
      "3/3 [==============================] - 0s 4ms/step - loss: 2.9937 - accuracy: 0.6883\n",
      "Epoch 17/200\n",
      "3/3 [==============================] - 0s 4ms/step - loss: 3.5119 - accuracy: 0.6753\n",
      "Epoch 18/200\n",
      "3/3 [==============================] - 0s 4ms/step - loss: 3.4992 - accuracy: 0.7143\n",
      "Epoch 19/200\n",
      "3/3 [==============================] - 0s 4ms/step - loss: 3.7988 - accuracy: 0.6623\n",
      "Epoch 20/200\n",
      "3/3 [==============================] - 0s 4ms/step - loss: 3.6627 - accuracy: 0.6753\n",
      "Epoch 21/200\n",
      "3/3 [==============================] - 0s 4ms/step - loss: 3.8283 - accuracy: 0.6623\n",
      "Epoch 22/200\n",
      "3/3 [==============================] - 0s 4ms/step - loss: 2.7090 - accuracy: 0.6883\n",
      "Epoch 23/200\n",
      "3/3 [==============================] - 0s 5ms/step - loss: 3.0652 - accuracy: 0.7273\n",
      "Epoch 24/200\n",
      "3/3 [==============================] - 0s 4ms/step - loss: 2.6310 - accuracy: 0.7013\n",
      "Epoch 25/200\n",
      "3/3 [==============================] - 0s 4ms/step - loss: 3.2490 - accuracy: 0.6753\n",
      "Epoch 26/200\n",
      "3/3 [==============================] - 0s 4ms/step - loss: 1.7919 - accuracy: 0.7403\n",
      "Epoch 27/200\n",
      "3/3 [==============================] - 0s 4ms/step - loss: 2.4223 - accuracy: 0.7013\n",
      "Epoch 28/200\n",
      "3/3 [==============================] - 0s 4ms/step - loss: 1.8533 - accuracy: 0.7143\n",
      "Epoch 29/200\n",
      "3/3 [==============================] - 0s 4ms/step - loss: 2.2541 - accuracy: 0.7403\n",
      "Epoch 30/200\n",
      "3/3 [==============================] - 0s 4ms/step - loss: 2.0286 - accuracy: 0.7792\n",
      "Epoch 31/200\n",
      "3/3 [==============================] - 0s 4ms/step - loss: 1.5035 - accuracy: 0.7403\n",
      "Epoch 32/200\n",
      "3/3 [==============================] - 0s 4ms/step - loss: 1.8695 - accuracy: 0.7532\n",
      "Epoch 33/200\n",
      "3/3 [==============================] - 0s 4ms/step - loss: 1.7787 - accuracy: 0.7792\n",
      "Epoch 34/200\n",
      "3/3 [==============================] - 0s 4ms/step - loss: 1.8455 - accuracy: 0.7273\n",
      "Epoch 35/200\n",
      "3/3 [==============================] - 0s 4ms/step - loss: 1.3804 - accuracy: 0.7922\n",
      "Epoch 36/200\n",
      "3/3 [==============================] - 0s 4ms/step - loss: 2.1517 - accuracy: 0.7922\n",
      "Epoch 37/200\n",
      "3/3 [==============================] - 0s 4ms/step - loss: 1.2185 - accuracy: 0.8182\n",
      "Epoch 38/200\n",
      "3/3 [==============================] - 0s 4ms/step - loss: 2.6585 - accuracy: 0.7403\n",
      "Epoch 39/200\n",
      "3/3 [==============================] - 0s 4ms/step - loss: 1.4079 - accuracy: 0.8052\n",
      "Epoch 40/200\n",
      "3/3 [==============================] - 0s 4ms/step - loss: 2.1270 - accuracy: 0.7662\n",
      "Epoch 41/200\n",
      "3/3 [==============================] - 0s 5ms/step - loss: 1.2305 - accuracy: 0.8052\n",
      "Epoch 42/200\n",
      "3/3 [==============================] - 0s 4ms/step - loss: 1.1697 - accuracy: 0.8701\n",
      "Epoch 43/200\n",
      "3/3 [==============================] - 0s 4ms/step - loss: 2.4901 - accuracy: 0.7662\n",
      "Epoch 44/200\n",
      "3/3 [==============================] - 0s 4ms/step - loss: 1.4146 - accuracy: 0.8312\n",
      "Epoch 45/200\n",
      "3/3 [==============================] - 0s 4ms/step - loss: 2.0551 - accuracy: 0.8442\n",
      "Epoch 46/200\n",
      "3/3 [==============================] - 0s 4ms/step - loss: 1.0265 - accuracy: 0.7792\n",
      "Epoch 47/200\n",
      "3/3 [==============================] - 0s 4ms/step - loss: 1.5034 - accuracy: 0.8052\n",
      "Epoch 48/200\n",
      "3/3 [==============================] - 0s 4ms/step - loss: 1.0112 - accuracy: 0.8182\n",
      "Epoch 49/200\n",
      "3/3 [==============================] - 0s 4ms/step - loss: 1.7898 - accuracy: 0.8312\n",
      "Epoch 50/200\n",
      "3/3 [==============================] - 0s 4ms/step - loss: 1.1360 - accuracy: 0.8312\n",
      "Epoch 51/200\n",
      "3/3 [==============================] - 0s 4ms/step - loss: 0.3869 - accuracy: 0.8831\n",
      "Epoch 52/200\n",
      "3/3 [==============================] - 0s 4ms/step - loss: 1.5524 - accuracy: 0.8442\n",
      "Epoch 53/200\n",
      "3/3 [==============================] - 0s 4ms/step - loss: 0.8348 - accuracy: 0.8052\n",
      "Epoch 54/200\n",
      "3/3 [==============================] - 0s 4ms/step - loss: 0.5786 - accuracy: 0.8701\n",
      "Epoch 55/200\n",
      "3/3 [==============================] - 0s 4ms/step - loss: 0.9417 - accuracy: 0.8442\n",
      "Epoch 56/200\n",
      "3/3 [==============================] - 0s 4ms/step - loss: 1.0289 - accuracy: 0.8312\n",
      "Epoch 57/200\n",
      "3/3 [==============================] - 0s 5ms/step - loss: 0.9688 - accuracy: 0.8571\n",
      "Epoch 58/200\n",
      "3/3 [==============================] - 0s 4ms/step - loss: 1.1858 - accuracy: 0.8052\n",
      "Epoch 59/200\n",
      "3/3 [==============================] - 0s 4ms/step - loss: 0.4718 - accuracy: 0.8831\n",
      "Epoch 60/200\n",
      "3/3 [==============================] - 0s 4ms/step - loss: 0.9821 - accuracy: 0.8052\n",
      "Epoch 61/200\n",
      "3/3 [==============================] - 0s 4ms/step - loss: 0.7451 - accuracy: 0.8442\n",
      "- - - - - - - - - - - - - - - - - - - - \n",
      "Epoch 1/200\n",
      "3/3 [==============================] - 0s 5ms/step - loss: 1.0891 - accuracy: 0.7792\n",
      "Epoch 2/200\n",
      "3/3 [==============================] - 0s 4ms/step - loss: 1.8666 - accuracy: 0.6753\n",
      "Epoch 3/200\n",
      "3/3 [==============================] - 0s 4ms/step - loss: 1.7009 - accuracy: 0.6753\n",
      "Epoch 4/200\n",
      "3/3 [==============================] - 0s 4ms/step - loss: 0.8514 - accuracy: 0.7792\n",
      "Epoch 5/200\n",
      "3/3 [==============================] - 0s 4ms/step - loss: 2.1613 - accuracy: 0.7013\n",
      "Epoch 6/200\n",
      "3/3 [==============================] - 0s 4ms/step - loss: 1.1606 - accuracy: 0.8052\n",
      "Epoch 7/200\n",
      "3/3 [==============================] - 0s 4ms/step - loss: 1.6603 - accuracy: 0.7143\n",
      "Epoch 8/200\n",
      "3/3 [==============================] - 0s 5ms/step - loss: 0.9560 - accuracy: 0.8182\n",
      "Epoch 9/200\n",
      "3/3 [==============================] - 0s 4ms/step - loss: 0.8456 - accuracy: 0.7792\n",
      "Epoch 10/200\n",
      "3/3 [==============================] - 0s 5ms/step - loss: 0.7463 - accuracy: 0.8442\n",
      "Epoch 11/200\n",
      "3/3 [==============================] - 0s 4ms/step - loss: 0.6275 - accuracy: 0.8312\n",
      "Epoch 12/200\n",
      "3/3 [==============================] - 0s 5ms/step - loss: 0.9738 - accuracy: 0.8312\n",
      "Epoch 13/200\n",
      "3/3 [==============================] - 0s 4ms/step - loss: 1.3453 - accuracy: 0.7403\n",
      "Epoch 14/200\n",
      "3/3 [==============================] - 0s 4ms/step - loss: 0.7998 - accuracy: 0.8442\n",
      "Epoch 15/200\n",
      "3/3 [==============================] - 0s 5ms/step - loss: 1.3285 - accuracy: 0.7792\n",
      "Epoch 16/200\n",
      "3/3 [==============================] - 0s 4ms/step - loss: 0.3548 - accuracy: 0.8571\n",
      "Epoch 17/200\n",
      "3/3 [==============================] - 0s 4ms/step - loss: 0.8701 - accuracy: 0.8571\n",
      "Epoch 18/200\n",
      "3/3 [==============================] - 0s 4ms/step - loss: 1.2684 - accuracy: 0.8052\n",
      "Epoch 19/200\n",
      "3/3 [==============================] - 0s 8ms/step - loss: 0.8583 - accuracy: 0.8442\n",
      "Epoch 20/200\n",
      "3/3 [==============================] - 0s 7ms/step - loss: 0.4429 - accuracy: 0.8701\n",
      "Epoch 21/200\n",
      "3/3 [==============================] - 0s 7ms/step - loss: 0.4952 - accuracy: 0.8442\n",
      "Epoch 22/200\n",
      "3/3 [==============================] - 0s 7ms/step - loss: 0.7056 - accuracy: 0.8442\n",
      "Epoch 23/200\n",
      "3/3 [==============================] - 0s 7ms/step - loss: 0.5697 - accuracy: 0.8831\n",
      "Epoch 24/200\n",
      "3/3 [==============================] - 0s 6ms/step - loss: 0.7466 - accuracy: 0.8442\n",
      "Epoch 25/200\n",
      "3/3 [==============================] - 0s 6ms/step - loss: 0.8903 - accuracy: 0.7792\n",
      "Epoch 26/200\n",
      "3/3 [==============================] - 0s 6ms/step - loss: 0.5312 - accuracy: 0.8701\n",
      "Epoch 27/200\n",
      "3/3 [==============================] - 0s 6ms/step - loss: 0.7646 - accuracy: 0.8052\n",
      "Epoch 28/200\n",
      "3/3 [==============================] - 0s 5ms/step - loss: 0.5605 - accuracy: 0.8442\n",
      "Epoch 29/200\n",
      "3/3 [==============================] - 0s 7ms/step - loss: 0.5214 - accuracy: 0.8571\n",
      "Epoch 30/200\n",
      "3/3 [==============================] - 0s 5ms/step - loss: 0.2106 - accuracy: 0.9221\n",
      "Epoch 31/200\n",
      "3/3 [==============================] - 0s 6ms/step - loss: 0.9772 - accuracy: 0.7922\n",
      "Epoch 32/200\n",
      "3/3 [==============================] - 0s 5ms/step - loss: 0.6541 - accuracy: 0.8571\n",
      "Epoch 33/200\n",
      "3/3 [==============================] - 0s 6ms/step - loss: 0.7001 - accuracy: 0.8442\n",
      "Epoch 34/200\n",
      "3/3 [==============================] - 0s 6ms/step - loss: 0.7934 - accuracy: 0.8312\n",
      "Epoch 35/200\n",
      "3/3 [==============================] - 0s 6ms/step - loss: 1.1020 - accuracy: 0.7662\n",
      "Epoch 36/200\n",
      "3/3 [==============================] - 0s 5ms/step - loss: 0.6189 - accuracy: 0.8052\n",
      "Epoch 37/200\n",
      "3/3 [==============================] - 0s 5ms/step - loss: 0.8912 - accuracy: 0.8571\n",
      "Epoch 38/200\n",
      "3/3 [==============================] - 0s 6ms/step - loss: 0.6992 - accuracy: 0.8571\n",
      "Epoch 39/200\n",
      "3/3 [==============================] - 0s 6ms/step - loss: 0.8541 - accuracy: 0.7662\n",
      "Epoch 40/200\n",
      "3/3 [==============================] - 0s 8ms/step - loss: 0.4104 - accuracy: 0.8831\n",
      "Mean accuracy: 0.656 (std: 0.328)\n"
     ]
    }
   ],
   "source": [
    "# Define a regularization technique for overfitting during training\n",
    "## Metric to be tracked set to 'accuracy'\n",
    "callback = EarlyStopping(monitor='accuracy', patience=10)\n",
    "\n",
    "# Define the cross-validation method\n",
    "cv = StratifiedKFold(n_splits=3)\n",
    "                     #shuffle=True,\n",
    "                     #random_state=42)\n",
    "\n",
    "# Initialize a dict with empty list to store the results\n",
    "histories = {'accuracy':[], 'val_accuracy':[], 'loss':[], 'val_loss':[]}\n",
    "# Loop over the splits\n",
    "for train_idx, val_idx in cv.split(X_pca, y_enc):\n",
    "    print(\"- \"*20)\n",
    "    # Split data in training and validation sets\n",
    "    X_train, X_val = X_pca[train_idx], X_pca[val_idx]\n",
    "    y_train, y_val = y_enc[train_idx], y_enc[val_idx]\n",
    "    \n",
    "    # Convert labels to one-hot-encoded vectors\n",
    "    dummy_train = keras.utils.to_categorical(y_train)\n",
    "    dummy_val = keras.utils.to_categorical(y_val)\n",
    "      \n",
    "    # Fit the model to the training data\n",
    "    history = model.fit(X_train, dummy_train, \n",
    "                        epochs = 200, \n",
    "                        verbose = 1,\n",
    "                        callbacks=[callback])\n",
    "\n",
    "    # Evaluate the model on the validation data\n",
    "    score = model.evaluate(X_val, dummy_val, verbose=0)\n",
    "\n",
    "    # Save results - losses and accuracy scores\n",
    "    histories['accuracy'].append(history.history['accuracy'])\n",
    "    histories['loss'].append(history.history['loss'])\n",
    "    histories['val_accuracy'].append(score[1])\n",
    "    histories['val_loss'].append(score[0])\n",
    "\n",
    "# Calculate the mean and standard deviation of the accuracy scores\n",
    "mean_acc = np.mean(histories['val_accuracy'])\n",
    "std_acc = np.std(histories['val_accuracy'])\n",
    "\n",
    "print(f'Mean accuracy: {mean_acc:.3f} (std: {std_acc:.3f})')"
   ]
  }
 ],
 "metadata": {
  "kernelspec": {
   "display_name": "Python 3 (ipykernel)",
   "language": "python",
   "name": "python3"
  },
  "language_info": {
   "codemirror_mode": {
    "name": "ipython",
    "version": 3
   },
   "file_extension": ".py",
   "mimetype": "text/x-python",
   "name": "python",
   "nbconvert_exporter": "python",
   "pygments_lexer": "ipython3",
   "version": "3.9.16"
  }
 },
 "nbformat": 4,
 "nbformat_minor": 5
}
